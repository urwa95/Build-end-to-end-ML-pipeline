{
 "cells": [
  {
   "cell_type": "code",
   "execution_count": null,
   "id": "696dd536-714a-4c54-905f-870cbc8e4cb6",
   "metadata": {},
   "outputs": [],
   "source": [
    "# Exploratory Data Analysis (EDA)\n",
    "\n",
    "In this notebook, we will:\n",
    "1. Fetch the raw `sample.csv` artifact from W&B.\n",
    "2. Generate an initial profiling report to inspect distributions, missing values, and data types.\n",
    "3. Apply basic cleaning (drop price outliers and convert `last_review` to datetime).\n",
    "4. Verify that our cleaning fixed the issues by inspecting the dataframe again and re-profiling.\n"
   ]
  },
  {
   "cell_type": "code",
   "execution_count": null,
   "id": "27fd9a13-571f-4934-bdcb-dfb77ac9a211",
   "metadata": {},
   "outputs": [],
   "source": [
    "import wandb\n",
    "import pandas as pd\n",
    "\n",
    "run = wandb.init(project=\"nyc_airbnb\", group=\"eda\", save_code=True)\n",
    "local_path = wandb.use_artifact(\"sample.csv:latest\").file()\n",
    "df = pd.read_csv(local_path)\n"
   ]
  },
  {
   "cell_type": "code",
   "execution_count": null,
   "id": "f6ba04c4-b6cd-4d10-a80b-ecbdd362c2f1",
   "metadata": {},
   "outputs": [],
   "source": [
    "import pandas_profiling\n",
    "\n",
    "profile = pandas_profiling.ProfileReport(df)\n",
    "profile.to_widgets()\n"
   ]
  },
  {
   "cell_type": "code",
   "execution_count": null,
   "id": "785b9fc9-e41d-436f-8b04-9b71fe51c7ea",
   "metadata": {},
   "outputs": [],
   "source": [
    "# Drop price outliers between $10 and $350\n",
    "min_price = 10\n",
    "max_price = 350\n",
    "idx = df[\"price\"].between(min_price, max_price)\n",
    "df = df[idx].copy()\n",
    "\n",
    "# Convert last_review to datetime\n",
    "df[\"last_review\"] = pd.to_datetime(df[\"last_review\"])\n"
   ]
  },
  {
   "cell_type": "code",
   "execution_count": null,
   "id": "bb6f7705-e404-4e33-b589-af44cc34db8b",
   "metadata": {},
   "outputs": [],
   "source": [
    "# Verify dataframe schema and missing values after cleaning\n",
    "df.info()\n"
   ]
  },
  {
   "cell_type": "code",
   "execution_count": null,
   "id": "1d83c36b-7b62-4272-8356-f858b0894ba8",
   "metadata": {},
   "outputs": [],
   "source": [
    "# Re-profile the cleaned dataframe to confirm fixes\n",
    "profile_clean = pandas_profiling.ProfileReport(df)\n",
    "profile_clean.to_widgets()\n"
   ]
  }
 ],
 "metadata": {
  "kernelspec": {
   "display_name": "Python 3 (ipykernel)",
   "language": "python",
   "name": "python3"
  },
  "language_info": {
   "codemirror_mode": {
    "name": "ipython",
    "version": 3
   },
   "file_extension": ".py",
   "mimetype": "text/x-python",
   "name": "python",
   "nbconvert_exporter": "python",
   "pygments_lexer": "ipython3",
   "version": "3.10.17"
  }
 },
 "nbformat": 4,
 "nbformat_minor": 5
}
